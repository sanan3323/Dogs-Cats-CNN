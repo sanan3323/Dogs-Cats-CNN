{
 "cells": [
  {
   "cell_type": "code",
   "execution_count": null,
   "id": "b8409379",
   "metadata": {},
   "outputs": [],
   "source": [
    "import numpy as np\n",
    "import pandas as pd\n",
    "import tensorflow as tf\n",
    "from tensorflow import keras\n",
    "from keras.preprocessing.image  import ImageDataGenerator\n",
    "import os\n",
    "import cv2\n",
    "import matplotlib.pyplot as plt\n",
    "from keras.models import Sequential\n",
    "from keras.layers import Dense"
   ]
  },
  {
   "cell_type": "code",
   "execution_count": null,
   "id": "28788f5b",
   "metadata": {},
   "outputs": [],
   "source": [
    "os.listdir('/Users/sanan33/Desktop/dogsvscats/train')"
   ]
  },
  {
   "cell_type": "code",
   "execution_count": null,
   "id": "edfa248b",
   "metadata": {},
   "outputs": [],
   "source": [
    "train_gen = ImageDataGenerator(rescale = 1/255)\n",
    "train_ds = train_gen.flow_from_directory('/Users/sanan33/Desktop/dogsvscats/trains/',\n",
    "                                        target_size=(64,64),\n",
    "                                        batch_size=32,\n",
    "                                        class_mode = 'binary')"
   ]
  },
  {
   "cell_type": "code",
   "execution_count": null,
   "id": "9b3222b2",
   "metadata": {},
   "outputs": [],
   "source": [
    "test_gen = ImageDataGenerator(rescale = 1/255)\n",
    "test_ds = train_gen.flow_from_directory('/Users/sanan33/Desktop/dogsvscats/test/',\n",
    "                                        target_size=(64,64),\n",
    "                                        batch_size=32,\n",
    "                                        class_mode = 'binary')"
   ]
  },
  {
   "cell_type": "code",
   "execution_count": null,
   "id": "38c78ce0",
   "metadata": {},
   "outputs": [],
   "source": []
  },
  {
   "cell_type": "code",
   "execution_count": null,
   "id": "913a21ad",
   "metadata": {},
   "outputs": [],
   "source": [
    "cnn = keras.models.Sequential()"
   ]
  },
  {
   "cell_type": "code",
   "execution_count": null,
   "id": "229b7529",
   "metadata": {},
   "outputs": [],
   "source": [
    "cnn.add(keras.layers.Conv2D(filters=32,kernel_size=3,activation='relu',input_shape =[64,64,3]))"
   ]
  },
  {
   "cell_type": "code",
   "execution_count": null,
   "id": "5cc70b0a",
   "metadata": {},
   "outputs": [],
   "source": [
    "cnn.add(keras.layers.MaxPool2D(pool_size=2,strides=2))"
   ]
  },
  {
   "cell_type": "code",
   "execution_count": null,
   "id": "77adb972",
   "metadata": {},
   "outputs": [],
   "source": [
    "cnn.add(keras.layers.Conv2D(filters=32,kernel_size=3,activation='relu'))\n",
    "cnn.add(keras.layers.MaxPool2D(pool_size=2,strides=2))"
   ]
  },
  {
   "cell_type": "code",
   "execution_count": null,
   "id": "b2d9dbc6",
   "metadata": {},
   "outputs": [],
   "source": [
    "cnn.add(keras.layers.Flatten())"
   ]
  },
  {
   "cell_type": "code",
   "execution_count": null,
   "id": "d3bcb4be",
   "metadata": {},
   "outputs": [],
   "source": [
    "cnn.add(keras.layers.Dense(units=128,activation='relu'))"
   ]
  },
  {
   "cell_type": "code",
   "execution_count": null,
   "id": "f5d90cc2",
   "metadata": {},
   "outputs": [],
   "source": [
    "cnn.add(keras.layers.Dense(units=1,activation='sigmoid'))"
   ]
  },
  {
   "cell_type": "code",
   "execution_count": null,
   "id": "570c6871",
   "metadata": {},
   "outputs": [],
   "source": [
    "cnn.compile(optimizer='adam',loss = 'binary_crossentropy',metrics = 'accuracy')"
   ]
  },
  {
   "cell_type": "code",
   "execution_count": null,
   "id": "797a1592",
   "metadata": {},
   "outputs": [],
   "source": [
    "cnn.fit(x = train_ds,validation_data = test_ds,epochs = 2)"
   ]
  },
  {
   "cell_type": "code",
   "execution_count": null,
   "id": "3ce6a12c",
   "metadata": {},
   "outputs": [],
   "source": [
    "cnn.summary()"
   ]
  },
  {
   "cell_type": "code",
   "execution_count": null,
   "id": "e9a86f42",
   "metadata": {},
   "outputs": [],
   "source": [
    "from sklearn.metrics import accuracy_score,classification_report"
   ]
  },
  {
   "cell_type": "code",
   "execution_count": null,
   "id": "eccc9a1e",
   "metadata": {},
   "outputs": [],
   "source": [
    "import PIL\n",
    "from pathlib import Path\n",
    "from PIL import UnidentifiedImageError"
   ]
  },
  {
   "cell_type": "code",
   "execution_count": null,
   "id": "6b4845d3",
   "metadata": {},
   "outputs": [],
   "source": [
    "path = Path('/Users/sanan33/Desktop/dogsvscats/trains/train/').rglob('*.jpg')\n",
    "for image in path:\n",
    "    try:\n",
    "        img = PIL.Image.open(image)\n",
    "    except PIL.UnidentifiedImageError:\n",
    "        print(image)"
   ]
  },
  {
   "cell_type": "code",
   "execution_count": null,
   "id": "3a736c01",
   "metadata": {},
   "outputs": [],
   "source": [
    "path = Path('/Users/sanan33/Desktop/dogsvscats/test/test1/').rglob('*.jpg')\n",
    "for image in path:\n",
    "    try:\n",
    "        img = PIL.Image.open(image)\n",
    "    except PIL.UnidentifiedImageError:\n",
    "        print(image)"
   ]
  },
  {
   "cell_type": "markdown",
   "id": "bdff484a",
   "metadata": {},
   "source": [
    "## ITERATE IMAGES"
   ]
  },
  {
   "cell_type": "code",
   "execution_count": null,
   "id": "3a5bede4",
   "metadata": {},
   "outputs": [],
   "source": [
    "dirpath = '/Users/sanan33/archive/PetImages/'\n",
    "categories = ['Dog','Cat']"
   ]
  },
  {
   "cell_type": "code",
   "execution_count": null,
   "id": "72239da3",
   "metadata": {
    "scrolled": true
   },
   "outputs": [],
   "source": [
    "for category in categories:\n",
    "    path = os.path.join(dirpath,category)\n",
    "    for image in os.listdir(path):\n",
    "        img_array = cv2.imread(os.path.join(path,image))\n",
    "        plt.imshow(img_array)\n",
    "        plt.show()"
   ]
  },
  {
   "cell_type": "code",
   "execution_count": null,
   "id": "257a90a4",
   "metadata": {},
   "outputs": [],
   "source": []
  }
 ],
 "metadata": {
  "kernelspec": {
   "display_name": "Python 3 (ipykernel)",
   "language": "python",
   "name": "python3"
  },
  "language_info": {
   "codemirror_mode": {
    "name": "ipython",
    "version": 3
   },
   "file_extension": ".py",
   "mimetype": "text/x-python",
   "name": "python",
   "nbconvert_exporter": "python",
   "pygments_lexer": "ipython3",
   "version": "3.9.7"
  }
 },
 "nbformat": 4,
 "nbformat_minor": 5
}
